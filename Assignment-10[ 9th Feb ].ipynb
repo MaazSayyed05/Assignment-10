{
 "cells": [
  {
   "cell_type": "code",
   "execution_count": 1,
   "id": "b925c3ec-35b5-4423-bc5d-60a98e55ab4b",
   "metadata": {},
   "outputs": [],
   "source": [
    "# OOPS TASK"
   ]
  },
  {
   "cell_type": "code",
   "execution_count": 2,
   "id": "e1ff9bd1-b9b7-49ed-af92-c676095152c5",
   "metadata": {},
   "outputs": [],
   "source": [
    "# Q1\n",
    "class vehicle:\n",
    "    \n",
    "    def __init__(self, name_of_vehicle, max_speed, average_of_vehicle):\n",
    "        self.name_of_vehicle = name_of_vehicle\n",
    "        self.max_speed = max_speed\n",
    "        self.average_of_vehicle = average_of_vehicle\n",
    "        "
   ]
  },
  {
   "cell_type": "code",
   "execution_count": 3,
   "id": "f2cfd79a-2996-42e1-90a6-561e60bcf1c4",
   "metadata": {},
   "outputs": [],
   "source": [
    "# Q2\n",
    "class car(vehicle):\n",
    "    \n",
    "    def seating_capacity(self, capacity):\n",
    "        self.capacity = capacity\n",
    "        return self.name_of_vehicle, self.capacity"
   ]
  },
  {
   "cell_type": "code",
   "execution_count": 5,
   "id": "bb7f9aae-9246-42b2-98e8-dfd7a1bdd593",
   "metadata": {},
   "outputs": [],
   "source": [
    "car1 = car(\"WagonR\",200,30)"
   ]
  },
  {
   "cell_type": "code",
   "execution_count": 6,
   "id": "622e8cc3-7c0a-4842-ae4e-ae40b640693b",
   "metadata": {},
   "outputs": [
    {
     "data": {
      "text/plain": [
       "('WagonR', 5)"
      ]
     },
     "execution_count": 6,
     "metadata": {},
     "output_type": "execute_result"
    }
   ],
   "source": [
    "car1.seating_capacity(5)"
   ]
  },
  {
   "cell_type": "code",
   "execution_count": 20,
   "id": "55bcf0fd-3f09-4177-96ec-86f84521197f",
   "metadata": {},
   "outputs": [],
   "source": [
    "# Q3\n",
    "# Multiple Inheritance--> Here, there is only one base class and atleast two child class of base class"
   ]
  },
  {
   "cell_type": "code",
   "execution_count": 8,
   "id": "1d6f371d-2a7f-4ba3-9091-5c23cae5f860",
   "metadata": {},
   "outputs": [],
   "source": [
    "class base:\n",
    "    def meth1(self):\n",
    "        print(\"This is basse class.\")"
   ]
  },
  {
   "cell_type": "code",
   "execution_count": 9,
   "id": "4ee6dd92-c0bf-4e5a-afe5-834d98425d6a",
   "metadata": {},
   "outputs": [],
   "source": [
    "class child1(base):\n",
    "    def meth2(self):\n",
    "        print(\"This is child1 class.\")"
   ]
  },
  {
   "cell_type": "code",
   "execution_count": 10,
   "id": "122574d7-2ab5-4784-8d6e-83ddc039e1da",
   "metadata": {},
   "outputs": [],
   "source": [
    "class child2(base):\n",
    "    def meth3(self):\n",
    "        print(\"This is child2 class.\")"
   ]
  },
  {
   "cell_type": "code",
   "execution_count": 11,
   "id": "7d178e30-7a32-4b4f-b20d-d288cf6d6c4a",
   "metadata": {},
   "outputs": [],
   "source": [
    "b1 = base()"
   ]
  },
  {
   "cell_type": "code",
   "execution_count": 13,
   "id": "b87e6bc2-cc21-4a8b-82f6-11e8cbf1e665",
   "metadata": {},
   "outputs": [
    {
     "name": "stdout",
     "output_type": "stream",
     "text": [
      "This is basse class.\n"
     ]
    }
   ],
   "source": [
    "b1.meth1()"
   ]
  },
  {
   "cell_type": "code",
   "execution_count": 14,
   "id": "a8297a21-0716-4c45-8d98-4fa3044af875",
   "metadata": {},
   "outputs": [],
   "source": [
    "c1 = child1()"
   ]
  },
  {
   "cell_type": "code",
   "execution_count": 15,
   "id": "8e6560cd-edc0-4750-8ab4-e379ebae10e7",
   "metadata": {},
   "outputs": [
    {
     "name": "stdout",
     "output_type": "stream",
     "text": [
      "This is basse class.\n"
     ]
    }
   ],
   "source": [
    "c1.meth1()"
   ]
  },
  {
   "cell_type": "code",
   "execution_count": 16,
   "id": "681d45fa-4c55-4de7-b6c2-5d9cb669871b",
   "metadata": {},
   "outputs": [
    {
     "name": "stdout",
     "output_type": "stream",
     "text": [
      "This is child1 class.\n"
     ]
    }
   ],
   "source": [
    "c1.meth2()"
   ]
  },
  {
   "cell_type": "code",
   "execution_count": 17,
   "id": "ac6f73ea-d2f2-4627-a86b-57392b7709db",
   "metadata": {},
   "outputs": [],
   "source": [
    "c2 = child2()"
   ]
  },
  {
   "cell_type": "code",
   "execution_count": 18,
   "id": "591e66c7-e6ea-471b-859e-e85de43907f1",
   "metadata": {},
   "outputs": [
    {
     "name": "stdout",
     "output_type": "stream",
     "text": [
      "This is basse class.\n"
     ]
    }
   ],
   "source": [
    "c2.meth1()"
   ]
  },
  {
   "cell_type": "code",
   "execution_count": 19,
   "id": "a45007a4-8bc4-463f-bc7f-4a6f27b69fae",
   "metadata": {},
   "outputs": [
    {
     "name": "stdout",
     "output_type": "stream",
     "text": [
      "This is child2 class.\n"
     ]
    }
   ],
   "source": [
    "c2.meth3()"
   ]
  },
  {
   "cell_type": "code",
   "execution_count": 21,
   "id": "3046dcf7-1d79-418c-9734-cc76d987243c",
   "metadata": {},
   "outputs": [],
   "source": [
    "# Q4\n",
    "# getter and setter --> In Python, getters and setters are not the same as those in other object-oriented programming languages. \n",
    "# Basically, the main purpose of using getters and setters in object-oriented programs is to ensure data encapsulation. \n"
   ]
  },
  {
   "cell_type": "code",
   "execution_count": 25,
   "id": "4eaeed0b-4856-4551-8226-f649d4e24ef5",
   "metadata": {},
   "outputs": [],
   "source": [
    "# Using normal functions\n",
    "class test:\n",
    "    \n",
    "    def __init__(self, age):\n",
    "        self.__age = age\n",
    "    \n",
    "    def get_age(self):\n",
    "        return self.__age\n",
    "    \n",
    "    def set_age(self,Age):\n",
    "        self.__age = Age\n",
    "    \n",
    "    def del_age(self):\n",
    "        del self.__age\n",
    "    "
   ]
  },
  {
   "cell_type": "code",
   "execution_count": 26,
   "id": "c7b3c5b9-3c50-4605-b535-b1703f71979c",
   "metadata": {},
   "outputs": [],
   "source": [
    "t1 = test(10)"
   ]
  },
  {
   "cell_type": "code",
   "execution_count": 27,
   "id": "96fee93f-18f5-4f6b-8836-ee6f09033c3c",
   "metadata": {},
   "outputs": [
    {
     "data": {
      "text/plain": [
       "10"
      ]
     },
     "execution_count": 27,
     "metadata": {},
     "output_type": "execute_result"
    }
   ],
   "source": [
    "t1.get_age()"
   ]
  },
  {
   "cell_type": "code",
   "execution_count": 28,
   "id": "491043ed-b246-47fc-beec-bab246a34419",
   "metadata": {},
   "outputs": [],
   "source": [
    "t1.set_age(20)"
   ]
  },
  {
   "cell_type": "code",
   "execution_count": 29,
   "id": "2984f24b-ff80-4e5b-ab99-a67aadc31993",
   "metadata": {},
   "outputs": [
    {
     "data": {
      "text/plain": [
       "20"
      ]
     },
     "execution_count": 29,
     "metadata": {},
     "output_type": "execute_result"
    }
   ],
   "source": [
    "t1.get_age()"
   ]
  },
  {
   "cell_type": "code",
   "execution_count": 34,
   "id": "e89fb743-9fe1-4703-a4e6-9fe84b712c19",
   "metadata": {},
   "outputs": [],
   "source": [
    "t1.del_age()"
   ]
  },
  {
   "cell_type": "code",
   "execution_count": 32,
   "id": "83ab6ab9-0afa-41be-8fc6-a6664b376f34",
   "metadata": {},
   "outputs": [],
   "source": [
    "# t1.set_age(30)"
   ]
  },
  {
   "cell_type": "code",
   "execution_count": 35,
   "id": "1812c506-060b-41a5-96db-f10f32a8dc64",
   "metadata": {},
   "outputs": [
    {
     "ename": "AttributeError",
     "evalue": "'test' object has no attribute '_test__age'",
     "output_type": "error",
     "traceback": [
      "\u001b[0;31m---------------------------------------------------------------------------\u001b[0m",
      "\u001b[0;31mAttributeError\u001b[0m                            Traceback (most recent call last)",
      "Cell \u001b[0;32mIn[35], line 1\u001b[0m\n\u001b[0;32m----> 1\u001b[0m \u001b[43mt1\u001b[49m\u001b[38;5;241;43m.\u001b[39;49m\u001b[43mget_age\u001b[49m\u001b[43m(\u001b[49m\u001b[43m)\u001b[49m\n",
      "Cell \u001b[0;32mIn[25], line 7\u001b[0m, in \u001b[0;36mtest.get_age\u001b[0;34m(self)\u001b[0m\n\u001b[1;32m      6\u001b[0m \u001b[38;5;28;01mdef\u001b[39;00m \u001b[38;5;21mget_age\u001b[39m(\u001b[38;5;28mself\u001b[39m):\n\u001b[0;32m----> 7\u001b[0m     \u001b[38;5;28;01mreturn\u001b[39;00m \u001b[38;5;28;43mself\u001b[39;49m\u001b[38;5;241;43m.\u001b[39;49m\u001b[43m__age\u001b[49m\n",
      "\u001b[0;31mAttributeError\u001b[0m: 'test' object has no attribute '_test__age'"
     ]
    }
   ],
   "source": [
    "t1.get_age()"
   ]
  },
  {
   "cell_type": "code",
   "execution_count": 29,
   "id": "11fc222b-7116-4c34-a660-69948249be50",
   "metadata": {},
   "outputs": [],
   "source": [
    "# Using property() function"
   ]
  },
  {
   "cell_type": "code",
   "execution_count": 49,
   "id": "9c3effd7-9246-4e0f-8a36-faaeb346433a",
   "metadata": {},
   "outputs": [],
   "source": [
    "# Using property() function\n",
    "class test_1:\n",
    "    \n",
    "    def __init__(self, age):\n",
    "        self.__age = age\n",
    "    \n",
    "    def get_age(self):\n",
    "        print(\"Getter Method\")\n",
    "        return self.__age\n",
    "    \n",
    "    def set_age(self,Age):\n",
    "        print(\"Setter Method\")\n",
    "        self.__age = Age\n",
    "    \n",
    "    def del_age(self):\n",
    "        print(\"Deleter Method\")\n",
    "        del self.__age\n",
    "    \n",
    "    pro_Age = property(get_age, set_age, del_age)\n",
    "    "
   ]
  },
  {
   "cell_type": "code",
   "execution_count": 8,
   "id": "e591752e-cc50-4dcc-942c-90794340d271",
   "metadata": {},
   "outputs": [],
   "source": [
    "t2 = test_1(10)"
   ]
  },
  {
   "cell_type": "code",
   "execution_count": 17,
   "id": "270074c8-1fc6-4ba0-a4de-da007869216a",
   "metadata": {},
   "outputs": [
    {
     "name": "stdout",
     "output_type": "stream",
     "text": [
      "Getter Method\n"
     ]
    },
    {
     "data": {
      "text/plain": [
       "20"
      ]
     },
     "execution_count": 17,
     "metadata": {},
     "output_type": "execute_result"
    }
   ],
   "source": [
    "t2.pro_Age"
   ]
  },
  {
   "cell_type": "code",
   "execution_count": 18,
   "id": "54b24974-212c-4aa8-8f68-df2afa067155",
   "metadata": {},
   "outputs": [
    {
     "name": "stdout",
     "output_type": "stream",
     "text": [
      "Setter Method\n"
     ]
    }
   ],
   "source": [
    "t2.pro_Age = 20"
   ]
  },
  {
   "cell_type": "code",
   "execution_count": 19,
   "id": "d52e21f4-180f-4c9f-8f54-9d2902d636c6",
   "metadata": {},
   "outputs": [
    {
     "name": "stdout",
     "output_type": "stream",
     "text": [
      "Getter Method\n",
      "20\n"
     ]
    }
   ],
   "source": [
    "print(t2.pro_Age)"
   ]
  },
  {
   "cell_type": "code",
   "execution_count": 20,
   "id": "202dca7d-5baf-43fd-b56d-cbff92e7806a",
   "metadata": {},
   "outputs": [
    {
     "name": "stdout",
     "output_type": "stream",
     "text": [
      "Getter Method\n"
     ]
    },
    {
     "data": {
      "text/plain": [
       "20"
      ]
     },
     "execution_count": 20,
     "metadata": {},
     "output_type": "execute_result"
    }
   ],
   "source": [
    "t2.pro_Age"
   ]
  },
  {
   "cell_type": "code",
   "execution_count": 22,
   "id": "211277a8-e66e-4f1e-b687-2410dd2c6aa8",
   "metadata": {},
   "outputs": [
    {
     "name": "stdout",
     "output_type": "stream",
     "text": [
      "Deleter Method\n"
     ]
    }
   ],
   "source": [
    "t2.del_age()"
   ]
  },
  {
   "cell_type": "code",
   "execution_count": 23,
   "id": "95115371-72d1-4cfb-b373-df36170435ab",
   "metadata": {},
   "outputs": [
    {
     "name": "stdout",
     "output_type": "stream",
     "text": [
      "Setter Method\n"
     ]
    }
   ],
   "source": [
    "t2.pro_Age = 30"
   ]
  },
  {
   "cell_type": "code",
   "execution_count": 24,
   "id": "b1933ece-6448-4b5e-828d-14b60d8817a5",
   "metadata": {},
   "outputs": [
    {
     "name": "stdout",
     "output_type": "stream",
     "text": [
      "Getter Method\n"
     ]
    },
    {
     "data": {
      "text/plain": [
       "30"
      ]
     },
     "execution_count": 24,
     "metadata": {},
     "output_type": "execute_result"
    }
   ],
   "source": [
    "t2.pro_Age"
   ]
  },
  {
   "cell_type": "code",
   "execution_count": 50,
   "id": "db2ebd44-9adb-4045-9fc4-eb4781aee5b5",
   "metadata": {},
   "outputs": [],
   "source": [
    "# Using @propery  decorator\n",
    "class test_2:\n",
    "    \n",
    "    def __init__(self, age):\n",
    "        self.__age = age\n",
    "    \n",
    "    @property\n",
    "    def get_age(self):\n",
    "        return self.__age\n",
    "    \n",
    "    @get_age.setter\n",
    "    def set_age(self,Age):\n",
    "        self.__age = Age\n",
    "    \n",
    "    @get_age.deleter\n",
    "    def del_age(self):\n",
    "        del self.__age\n",
    "    "
   ]
  },
  {
   "cell_type": "code",
   "execution_count": 39,
   "id": "b502cb16-272e-49e8-87dd-aae27a25a86d",
   "metadata": {},
   "outputs": [],
   "source": [
    "t3 = test_2(10)"
   ]
  },
  {
   "cell_type": "code",
   "execution_count": 43,
   "id": "e231627f-865f-45b6-85c2-119d5e5b03d1",
   "metadata": {},
   "outputs": [],
   "source": [
    "del t3.del_age"
   ]
  },
  {
   "cell_type": "code",
   "execution_count": 44,
   "id": "3f036b48-d424-41e5-84a5-f29359f0beb4",
   "metadata": {},
   "outputs": [
    {
     "ename": "AttributeError",
     "evalue": "'test_2' object has no attribute '_test_2__age'",
     "output_type": "error",
     "traceback": [
      "\u001b[0;31m---------------------------------------------------------------------------\u001b[0m",
      "\u001b[0;31mAttributeError\u001b[0m                            Traceback (most recent call last)",
      "Cell \u001b[0;32mIn[44], line 1\u001b[0m\n\u001b[0;32m----> 1\u001b[0m \u001b[43mt3\u001b[49m\u001b[38;5;241;43m.\u001b[39;49m\u001b[43mget_age\u001b[49m\n",
      "Cell \u001b[0;32mIn[38], line 8\u001b[0m, in \u001b[0;36mtest_2.get_age\u001b[0;34m(self)\u001b[0m\n\u001b[1;32m      6\u001b[0m \u001b[38;5;129m@property\u001b[39m\n\u001b[1;32m      7\u001b[0m \u001b[38;5;28;01mdef\u001b[39;00m \u001b[38;5;21mget_age\u001b[39m(\u001b[38;5;28mself\u001b[39m):\n\u001b[0;32m----> 8\u001b[0m     \u001b[38;5;28;01mreturn\u001b[39;00m \u001b[38;5;28;43mself\u001b[39;49m\u001b[38;5;241;43m.\u001b[39;49m\u001b[43m__age\u001b[49m\n",
      "\u001b[0;31mAttributeError\u001b[0m: 'test_2' object has no attribute '_test_2__age'"
     ]
    }
   ],
   "source": [
    "t3.get_age"
   ]
  },
  {
   "cell_type": "code",
   "execution_count": 45,
   "id": "855c7043-4d80-47dd-9802-978c39a3ff23",
   "metadata": {},
   "outputs": [],
   "source": [
    "t3.set_age = 30"
   ]
  },
  {
   "cell_type": "code",
   "execution_count": 46,
   "id": "7e787bd9-8dc4-472b-80d2-8c94eae59b86",
   "metadata": {},
   "outputs": [
    {
     "data": {
      "text/plain": [
       "30"
      ]
     },
     "execution_count": 46,
     "metadata": {},
     "output_type": "execute_result"
    }
   ],
   "source": [
    "t3.get_age"
   ]
  },
  {
   "cell_type": "code",
   "execution_count": 47,
   "id": "7f7cafbd-6d5a-4433-b4dc-e9b0e11336e6",
   "metadata": {},
   "outputs": [],
   "source": [
    "del t3.del_age"
   ]
  },
  {
   "cell_type": "code",
   "execution_count": 48,
   "id": "c4c97aa4-b39a-4113-af7c-6697589b7d8c",
   "metadata": {},
   "outputs": [
    {
     "ename": "AttributeError",
     "evalue": "'test_2' object has no attribute '_test_2__age'",
     "output_type": "error",
     "traceback": [
      "\u001b[0;31m---------------------------------------------------------------------------\u001b[0m",
      "\u001b[0;31mAttributeError\u001b[0m                            Traceback (most recent call last)",
      "Cell \u001b[0;32mIn[48], line 1\u001b[0m\n\u001b[0;32m----> 1\u001b[0m \u001b[43mt3\u001b[49m\u001b[38;5;241;43m.\u001b[39;49m\u001b[43mget_age\u001b[49m\n",
      "Cell \u001b[0;32mIn[38], line 8\u001b[0m, in \u001b[0;36mtest_2.get_age\u001b[0;34m(self)\u001b[0m\n\u001b[1;32m      6\u001b[0m \u001b[38;5;129m@property\u001b[39m\n\u001b[1;32m      7\u001b[0m \u001b[38;5;28;01mdef\u001b[39;00m \u001b[38;5;21mget_age\u001b[39m(\u001b[38;5;28mself\u001b[39m):\n\u001b[0;32m----> 8\u001b[0m     \u001b[38;5;28;01mreturn\u001b[39;00m \u001b[38;5;28;43mself\u001b[39;49m\u001b[38;5;241;43m.\u001b[39;49m\u001b[43m__age\u001b[49m\n",
      "\u001b[0;31mAttributeError\u001b[0m: 'test_2' object has no attribute '_test_2__age'"
     ]
    }
   ],
   "source": [
    "t3.get_age"
   ]
  },
  {
   "cell_type": "code",
   "execution_count": null,
   "id": "263d244c-1883-4e4d-b1a3-8d8aba31d83d",
   "metadata": {},
   "outputs": [],
   "source": [
    "# Method Overriding--> Method overriding is an ability of any object-oriented programming language that allows a subclass or child class to provide a specific implementation of a method that is already provided by one of its super-classes or parent classes."
   ]
  },
  {
   "cell_type": "code",
   "execution_count": 65,
   "id": "8678b5a8-c4d8-4c6a-bf13-e4884eea651c",
   "metadata": {},
   "outputs": [],
   "source": [
    "class grandparent:\n",
    "    \n",
    "    def __init__(self, age):\n",
    "        self.age = age\n",
    "        \n",
    "    \n",
    "    def meth(self):\n",
    "        print(\"This is grandparent class.\")\n",
    "    \n",
    "    def show(self):\n",
    "         print(\"Age of grandpa = \",self.age)\n",
    "    "
   ]
  },
  {
   "cell_type": "code",
   "execution_count": 75,
   "id": "e4a4515a-c679-4d5c-a973-59e4801eef02",
   "metadata": {},
   "outputs": [],
   "source": [
    "class parent(grandparent):\n",
    "        \n",
    "    def __init__(self, age):\n",
    "        self.age = age\n",
    "    \n",
    "    def meth(self):\n",
    "        print(\"This is parent class.\")\n",
    "        \n",
    "    def show(self):\n",
    "         print(\"Age of father = \",self.age)\n",
    "    \n",
    "    "
   ]
  },
  {
   "cell_type": "code",
   "execution_count": 74,
   "id": "70e70485-1571-41e0-99a2-b24c3344d04e",
   "metadata": {},
   "outputs": [],
   "source": [
    "class child(parent):\n",
    "        \n",
    "    def __init__(self, age):\n",
    "        self.age = age\n",
    "    \n",
    "    def meth(self):\n",
    "        print(\"This is child class.\")\n",
    "        \n",
    "    \n",
    "    def show(self):\n",
    "         print(\"Age of son = \",self.age)\n",
    "    "
   ]
  },
  {
   "cell_type": "code",
   "execution_count": 76,
   "id": "78a4b1bd-b6e0-451b-b118-c45fea0ebc24",
   "metadata": {},
   "outputs": [],
   "source": [
    "c1 = child(20)"
   ]
  },
  {
   "cell_type": "code",
   "execution_count": 77,
   "id": "1292cc00-0833-4768-afde-c3e08543c671",
   "metadata": {},
   "outputs": [
    {
     "name": "stdout",
     "output_type": "stream",
     "text": [
      "This is child class.\n"
     ]
    }
   ],
   "source": [
    "c1.meth()"
   ]
  },
  {
   "cell_type": "code",
   "execution_count": 78,
   "id": "85529da0-21fb-4db0-948c-7f349c2ef6d0",
   "metadata": {},
   "outputs": [
    {
     "name": "stdout",
     "output_type": "stream",
     "text": [
      "Age of son =  20\n"
     ]
    }
   ],
   "source": [
    "c1.show()"
   ]
  },
  {
   "cell_type": "code",
   "execution_count": 79,
   "id": "1c73b1d4-704e-403d-a80c-91034b4efb30",
   "metadata": {},
   "outputs": [],
   "source": [
    "f1 = parent(45)"
   ]
  },
  {
   "cell_type": "code",
   "execution_count": 80,
   "id": "2b483b36-b08c-4d1d-98c0-c819ff391a63",
   "metadata": {},
   "outputs": [
    {
     "name": "stdout",
     "output_type": "stream",
     "text": [
      "This is parent class.\n"
     ]
    }
   ],
   "source": [
    "f1.meth()"
   ]
  },
  {
   "cell_type": "code",
   "execution_count": 81,
   "id": "b0904f9a-a3ce-415e-ba9c-4b80f712862d",
   "metadata": {},
   "outputs": [
    {
     "name": "stdout",
     "output_type": "stream",
     "text": [
      "Age of father =  45\n"
     ]
    }
   ],
   "source": [
    "f1.show()"
   ]
  },
  {
   "cell_type": "code",
   "execution_count": 82,
   "id": "ca11458c-a1ce-432a-9e54-12b3f8ee830b",
   "metadata": {},
   "outputs": [],
   "source": [
    "g1 = grandparent(81)"
   ]
  },
  {
   "cell_type": "code",
   "execution_count": 83,
   "id": "68e6ca44-bf71-46a9-b087-810eb21b3a67",
   "metadata": {},
   "outputs": [
    {
     "name": "stdout",
     "output_type": "stream",
     "text": [
      "This is grandparent class.\n"
     ]
    }
   ],
   "source": [
    "g1.meth()"
   ]
  },
  {
   "cell_type": "code",
   "execution_count": 84,
   "id": "cf734fe1-c825-43c8-8189-57e1d0bb1ccf",
   "metadata": {},
   "outputs": [
    {
     "name": "stdout",
     "output_type": "stream",
     "text": [
      "Age of grandpa =  81\n"
     ]
    }
   ],
   "source": [
    "g1.show()"
   ]
  },
  {
   "cell_type": "code",
   "execution_count": null,
   "id": "afdc7759-b85f-4292-8924-8e9ed0963e14",
   "metadata": {},
   "outputs": [],
   "source": []
  },
  {
   "cell_type": "code",
   "execution_count": 85,
   "id": "62680723-15dc-423c-83da-43a082f8eaee",
   "metadata": {},
   "outputs": [],
   "source": [
    "class grandparent:\n",
    "    \n",
    "    def __init__(self, age):\n",
    "        self.age = age\n",
    "        \n",
    "    \n",
    "    def meth_1(self):\n",
    "        print(\"This is grandparent class.\")\n",
    "    \n",
    "    def show(self):\n",
    "         print(\"Age of grandpa = \",self.age)\n",
    "    "
   ]
  },
  {
   "cell_type": "code",
   "execution_count": 101,
   "id": "c04a6edc-8d14-4a67-bb31-9708e8f44fa2",
   "metadata": {},
   "outputs": [],
   "source": [
    "class parent:\n",
    "        \n",
    "    def __init__(self, age):\n",
    "        self.age = age\n",
    "    \n",
    "    def meth_2(self):\n",
    "        print(\"This is parent class.\")\n",
    "        \n",
    "    def show(self):\n",
    "         print(\"Age of father = \",self.age)\n",
    "    \n",
    "    "
   ]
  },
  {
   "cell_type": "code",
   "execution_count": 102,
   "id": "e5825252-2ec2-4aa5-b4f4-689dca825d9a",
   "metadata": {},
   "outputs": [],
   "source": [
    "class child(parent,grandparent):\n",
    "        \n",
    "    def __init__(self, age):\n",
    "        self.age = age\n",
    "    \n",
    "    def meth(self):\n",
    "        print(\"This is child class.\")\n",
    "        \n",
    "    \n",
    "    def show(self):\n",
    "        parent.show(self)\n",
    "        print(\"Age of son = \",self.age)\n",
    "    "
   ]
  },
  {
   "cell_type": "code",
   "execution_count": 103,
   "id": "f9334fe6-1eec-4a7f-a366-f3f8bd44aa51",
   "metadata": {},
   "outputs": [],
   "source": [
    "c2 = child(20)"
   ]
  },
  {
   "cell_type": "code",
   "execution_count": 104,
   "id": "51cd41e9-dee8-425a-9333-b7a2b2f0a21a",
   "metadata": {},
   "outputs": [
    {
     "name": "stdout",
     "output_type": "stream",
     "text": [
      "This is grandparent class.\n"
     ]
    }
   ],
   "source": [
    "c2.meth_1()"
   ]
  },
  {
   "cell_type": "code",
   "execution_count": 105,
   "id": "e50b35c6-1734-41f2-9485-775b27aa7347",
   "metadata": {},
   "outputs": [
    {
     "name": "stdout",
     "output_type": "stream",
     "text": [
      "This is parent class.\n"
     ]
    }
   ],
   "source": [
    "c2.meth_2()"
   ]
  },
  {
   "cell_type": "code",
   "execution_count": 106,
   "id": "494fe94c-9e82-4dee-9a47-9f129e54e3cd",
   "metadata": {},
   "outputs": [
    {
     "name": "stdout",
     "output_type": "stream",
     "text": [
      "Age of father =  20\n",
      "Age of son =  20\n"
     ]
    }
   ],
   "source": [
    "c2.show()"
   ]
  },
  {
   "cell_type": "code",
   "execution_count": null,
   "id": "81a159f4-b90e-4799-9481-385bc1d15370",
   "metadata": {},
   "outputs": [],
   "source": []
  },
  {
   "cell_type": "code",
   "execution_count": null,
   "id": "f0ae3983-6949-462c-b9b1-9b6d871f4475",
   "metadata": {},
   "outputs": [],
   "source": [
    "# super() in python"
   ]
  },
  {
   "cell_type": "code",
   "execution_count": 168,
   "id": "073097ff-adbe-4623-80b4-4d3e15357771",
   "metadata": {},
   "outputs": [],
   "source": [
    "class grandparent:\n",
    "    \n",
    "    # def __init__(self, age):\n",
    "        # self.age = age\n",
    "        \n",
    "    \n",
    "    def meth(self):\n",
    "        print(\"This is grandparent class.\")\n",
    "    \n",
    "    def show(self,age):\n",
    "         # print(\"Age of grandpa = \",self.age)\n",
    "        print(\"Age of grandpa = \",age)\n",
    "    "
   ]
  },
  {
   "cell_type": "code",
   "execution_count": 169,
   "id": "6bfe41e5-bc01-46e3-a654-f8b25bd25f1d",
   "metadata": {},
   "outputs": [],
   "source": [
    "class parent(grandparent):\n",
    "        \n",
    "    # def __init__(self, age):\n",
    "        # self.age = age\n",
    "        # super().__init__()\n",
    "    \n",
    "    def meth(self):\n",
    "        print(\"This is parent class.\")\n",
    "        super().meth()\n",
    "        \n",
    "    def show(self, age):\n",
    "        # print(\"Age of father = \",self.age)\n",
    "        print(\"Age of father = \",age)\n",
    "        super().show(81)\n",
    "    \n",
    "    "
   ]
  },
  {
   "cell_type": "code",
   "execution_count": 170,
   "id": "d1dac719-13f7-4a93-9ebb-d293d582a108",
   "metadata": {},
   "outputs": [],
   "source": [
    "class child(parent):\n",
    "        \n",
    "    # def __init__(self, age):\n",
    "        # self.age = age\n",
    "        # super().__init__()\n",
    "    \n",
    "    def meth(self):\n",
    "        print(\"This is child class.\")\n",
    "        super().meth()\n",
    "        \n",
    "    \n",
    "    def show(self, age):\n",
    "        # print(\"Age of son = \",self.age)\n",
    "        print(\"Age of son = \",age)\n",
    "        super().show(45)"
   ]
  },
  {
   "cell_type": "code",
   "execution_count": 171,
   "id": "fa595de0-2c81-4980-a54e-5b6be4511e06",
   "metadata": {},
   "outputs": [],
   "source": [
    "c3 = child()"
   ]
  },
  {
   "cell_type": "code",
   "execution_count": 172,
   "id": "910d6dc1-f779-4033-916b-83c40de5ede5",
   "metadata": {},
   "outputs": [
    {
     "name": "stdout",
     "output_type": "stream",
     "text": [
      "This is child class.\n",
      "This is parent class.\n",
      "This is grandparent class.\n"
     ]
    }
   ],
   "source": [
    "c3.meth()"
   ]
  },
  {
   "cell_type": "code",
   "execution_count": 173,
   "id": "8f558a85-1d0b-4f73-ad09-d777683dfd29",
   "metadata": {},
   "outputs": [
    {
     "name": "stdout",
     "output_type": "stream",
     "text": [
      "Age of son =  20\n",
      "Age of father =  45\n",
      "Age of grandpa =  81\n"
     ]
    }
   ],
   "source": [
    "c3.show(20)"
   ]
  },
  {
   "cell_type": "code",
   "execution_count": null,
   "id": "82418240-cc5a-4a68-a388-db6a9e299769",
   "metadata": {},
   "outputs": [],
   "source": []
  }
 ],
 "metadata": {
  "kernelspec": {
   "display_name": "Python 3 (ipykernel)",
   "language": "python",
   "name": "python3"
  },
  "language_info": {
   "codemirror_mode": {
    "name": "ipython",
    "version": 3
   },
   "file_extension": ".py",
   "mimetype": "text/x-python",
   "name": "python",
   "nbconvert_exporter": "python",
   "pygments_lexer": "ipython3",
   "version": "3.10.8"
  }
 },
 "nbformat": 4,
 "nbformat_minor": 5
}
